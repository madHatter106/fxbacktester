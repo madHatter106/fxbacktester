{
 "cells": [
  {
   "cell_type": "code",
   "execution_count": 26,
   "metadata": {},
   "outputs": [],
   "source": [
    "from fxbacktester.random_forecast import RandomForecastingStrategy\n",
    "import pandas as pd\n",
    "import os\n",
    "import glob"
   ]
  },
  {
   "cell_type": "code",
   "execution_count": 27,
   "metadata": {},
   "outputs": [
    {
     "data": {
      "text/plain": [
       "['/Users/PoFA/DATAFILES/FX/OANDA/AUD_USD_170101_170101_1H.h5s',\n",
       " '/Users/PoFA/DATAFILES/FX/OANDA/CAD_JPY_170101_170101_1H.h5s',\n",
       " '/Users/PoFA/DATAFILES/FX/OANDA/EUR_CAD_170101_170101_1H.h5s',\n",
       " '/Users/PoFA/DATAFILES/FX/OANDA/EUR_JPY_170101_170101_1H.h5s',\n",
       " '/Users/PoFA/DATAFILES/FX/OANDA/EUR_USD_170101_170101_1H.h5s',\n",
       " '/Users/PoFA/DATAFILES/FX/OANDA/GBP_USD_170101_170101_1H.h5s',\n",
       " '/Users/PoFA/DATAFILES/FX/OANDA/USD_CHF_170101_170101_1H.h5s',\n",
       " '/Users/PoFA/DATAFILES/FX/OANDA/USD_JPY_170101_170101_1H.h5s']"
      ]
     },
     "execution_count": 27,
     "metadata": {},
     "output_type": "execute_result"
    }
   ],
   "source": [
    "maindir = '/Users/PoFA/DATAFILES/FX/OANDA/'\n",
    "# maindir = os.getenv('OANDA_DATA_MAIN')\n",
    "datalist = glob.glob(os.path.join(maindir,'*'))\n",
    "datalist"
   ]
  },
  {
   "cell_type": "code",
   "execution_count": 19,
   "metadata": {
    "collapsed": true
   },
   "outputs": [],
   "source": [
    "symbol='AUD_USD'\n",
    "file=datalist[0]"
   ]
  },
  {
   "cell_type": "code",
   "execution_count": 24,
   "metadata": {},
   "outputs": [],
   "source": [
    "dfau = pd.read_hdf(file)\n",
    "dfau.drop(['time', 'complete'], inplace=True, axis=1)"
   ]
  },
  {
   "cell_type": "code",
   "execution_count": 25,
   "metadata": {},
   "outputs": [
    {
     "data": {
      "text/html": [
       "<div>\n",
       "<table border=\"1\" class=\"dataframe\">\n",
       "  <thead>\n",
       "    <tr style=\"text-align: right;\">\n",
       "      <th></th>\n",
       "      <th>closeAsk</th>\n",
       "      <th>closeBid</th>\n",
       "      <th>highAsk</th>\n",
       "      <th>highBid</th>\n",
       "      <th>lowAsk</th>\n",
       "      <th>lowBid</th>\n",
       "      <th>openAsk</th>\n",
       "      <th>openBid</th>\n",
       "      <th>volume</th>\n",
       "    </tr>\n",
       "  </thead>\n",
       "  <tbody>\n",
       "    <tr>\n",
       "      <th>2017-01-02 23:00:00</th>\n",
       "      <td>0.71970</td>\n",
       "      <td>0.71950</td>\n",
       "      <td>0.72045</td>\n",
       "      <td>0.72026</td>\n",
       "      <td>0.71935</td>\n",
       "      <td>0.71916</td>\n",
       "      <td>0.71998</td>\n",
       "      <td>0.71963</td>\n",
       "      <td>453</td>\n",
       "    </tr>\n",
       "    <tr>\n",
       "      <th>2017-01-03 00:00:00</th>\n",
       "      <td>0.71955</td>\n",
       "      <td>0.71939</td>\n",
       "      <td>0.72048</td>\n",
       "      <td>0.72031</td>\n",
       "      <td>0.71954</td>\n",
       "      <td>0.71936</td>\n",
       "      <td>0.71966</td>\n",
       "      <td>0.71944</td>\n",
       "      <td>300</td>\n",
       "    </tr>\n",
       "    <tr>\n",
       "      <th>2017-01-03 01:00:00</th>\n",
       "      <td>0.72175</td>\n",
       "      <td>0.72158</td>\n",
       "      <td>0.72178</td>\n",
       "      <td>0.72163</td>\n",
       "      <td>0.71953</td>\n",
       "      <td>0.71939</td>\n",
       "      <td>0.71959</td>\n",
       "      <td>0.71942</td>\n",
       "      <td>559</td>\n",
       "    </tr>\n",
       "    <tr>\n",
       "      <th>2017-01-03 02:00:00</th>\n",
       "      <td>0.72257</td>\n",
       "      <td>0.72240</td>\n",
       "      <td>0.72266</td>\n",
       "      <td>0.72248</td>\n",
       "      <td>0.72166</td>\n",
       "      <td>0.72150</td>\n",
       "      <td>0.72170</td>\n",
       "      <td>0.72153</td>\n",
       "      <td>305</td>\n",
       "    </tr>\n",
       "    <tr>\n",
       "      <th>2017-01-03 03:00:00</th>\n",
       "      <td>0.72306</td>\n",
       "      <td>0.72294</td>\n",
       "      <td>0.72326</td>\n",
       "      <td>0.72310</td>\n",
       "      <td>0.72245</td>\n",
       "      <td>0.72229</td>\n",
       "      <td>0.72252</td>\n",
       "      <td>0.72237</td>\n",
       "      <td>243</td>\n",
       "    </tr>\n",
       "  </tbody>\n",
       "</table>\n",
       "</div>"
      ],
      "text/plain": [
       "                     closeAsk  closeBid  highAsk  highBid   lowAsk   lowBid  \\\n",
       "2017-01-02 23:00:00   0.71970   0.71950  0.72045  0.72026  0.71935  0.71916   \n",
       "2017-01-03 00:00:00   0.71955   0.71939  0.72048  0.72031  0.71954  0.71936   \n",
       "2017-01-03 01:00:00   0.72175   0.72158  0.72178  0.72163  0.71953  0.71939   \n",
       "2017-01-03 02:00:00   0.72257   0.72240  0.72266  0.72248  0.72166  0.72150   \n",
       "2017-01-03 03:00:00   0.72306   0.72294  0.72326  0.72310  0.72245  0.72229   \n",
       "\n",
       "                     openAsk  openBid  volume  \n",
       "2017-01-02 23:00:00  0.71998  0.71963     453  \n",
       "2017-01-03 00:00:00  0.71966  0.71944     300  \n",
       "2017-01-03 01:00:00  0.71959  0.71942     559  \n",
       "2017-01-03 02:00:00  0.72170  0.72153     305  \n",
       "2017-01-03 03:00:00  0.72252  0.72237     243  "
      ]
     },
     "execution_count": 25,
     "metadata": {},
     "output_type": "execute_result"
    }
   ],
   "source": [
    "dfau.head()"
   ]
  },
  {
   "cell_type": "code",
   "execution_count": 28,
   "metadata": {
    "collapsed": true
   },
   "outputs": [],
   "source": [
    "rfs = RandomForecastingStrategy(symbol=symbol, bars=dfau )"
   ]
  },
  {
   "cell_type": "code",
   "execution_count": 30,
   "metadata": {},
   "outputs": [],
   "source": [
    "dfsig= rfs.generate_signals()"
   ]
  },
  {
   "cell_type": "code",
   "execution_count": 31,
   "metadata": {},
   "outputs": [
    {
     "data": {
      "text/html": [
       "<div>\n",
       "<table border=\"1\" class=\"dataframe\">\n",
       "  <thead>\n",
       "    <tr style=\"text-align: right;\">\n",
       "      <th></th>\n",
       "      <th>signal</th>\n",
       "    </tr>\n",
       "  </thead>\n",
       "  <tbody>\n",
       "    <tr>\n",
       "      <th>2017-01-02 23:00:00</th>\n",
       "      <td>1.0</td>\n",
       "    </tr>\n",
       "    <tr>\n",
       "      <th>2017-01-03 00:00:00</th>\n",
       "      <td>-1.0</td>\n",
       "    </tr>\n",
       "    <tr>\n",
       "      <th>2017-01-03 01:00:00</th>\n",
       "      <td>1.0</td>\n",
       "    </tr>\n",
       "    <tr>\n",
       "      <th>2017-01-03 02:00:00</th>\n",
       "      <td>-1.0</td>\n",
       "    </tr>\n",
       "    <tr>\n",
       "      <th>2017-01-03 03:00:00</th>\n",
       "      <td>-1.0</td>\n",
       "    </tr>\n",
       "  </tbody>\n",
       "</table>\n",
       "</div>"
      ],
      "text/plain": [
       "                     signal\n",
       "2017-01-02 23:00:00     1.0\n",
       "2017-01-03 00:00:00    -1.0\n",
       "2017-01-03 01:00:00     1.0\n",
       "2017-01-03 02:00:00    -1.0\n",
       "2017-01-03 03:00:00    -1.0"
      ]
     },
     "execution_count": 31,
     "metadata": {},
     "output_type": "execute_result"
    }
   ],
   "source": [
    "dfsig.head()"
   ]
  },
  {
   "cell_type": "code",
   "execution_count": null,
   "metadata": {
    "collapsed": true
   },
   "outputs": [],
   "source": []
  }
 ],
 "metadata": {
  "kernelspec": {
   "display_name": "Python 3",
   "language": "python",
   "name": "python3"
  },
  "language_info": {
   "codemirror_mode": {
    "name": "ipython",
    "version": 3
   },
   "file_extension": ".py",
   "mimetype": "text/x-python",
   "name": "python",
   "nbconvert_exporter": "python",
   "pygments_lexer": "ipython3",
   "version": "3.6.0"
  }
 },
 "nbformat": 4,
 "nbformat_minor": 2
}
