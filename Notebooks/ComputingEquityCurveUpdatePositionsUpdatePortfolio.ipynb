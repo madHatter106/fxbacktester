{
 "cells": [
  {
   "cell_type": "markdown",
   "metadata": {},
   "source": [
    "This notebook is about managing an event-driven backtesting/trading platform. There are plenty of posts about writing this stuff. But the code is often poorly commented, which makes it hard to get one's head around it. Here I try to figure out some of the parts that make up such a system.\n",
    "In good ol' UNIX style I write small functions that do one thing and one thing only to build the proper framework.\n",
    "\n",
    "Note that OANDA allows trading in units rather than lots, \n",
    "so that's what I will use here."
   ]
  },
  {
   "cell_type": "code",
   "execution_count": 1,
   "metadata": {
    "collapsed": true
   },
   "outputs": [],
   "source": [
    "import matplotlib.pyplot as pl\n",
    "import pandas as pd\n",
    "from collections import namedtuple\n",
    "import numpy as np\n",
    "from decimal import Decimal, ROUND_HALF_DOWN\n",
    "%matplotlib inline"
   ]
  },
  {
   "cell_type": "code",
   "execution_count": 2,
   "metadata": {
    "collapsed": true
   },
   "outputs": [],
   "source": [
    "# Using USD/CHF of 1.4555\n",
    "#getcontext().prec=6\n",
    "lotDict = {1: Decimal(str(1e5))}\n",
    "pip = Decimal(str(1e-4))\n",
    "usd_chf = Decimal(str(1.4555))\n",
    "# pip value ($ per pip)\n",
    "usd_chf_pip_value = pip / usd_chf * lotDict[1]  "
   ]
  },
  {
   "cell_type": "code",
   "execution_count": 3,
   "metadata": {},
   "outputs": [
    {
     "data": {
      "text/plain": [
       "Decimal('6.87')"
      ]
     },
     "execution_count": 3,
     "metadata": {},
     "output_type": "execute_result"
    }
   ],
   "source": [
    "usd_chf_pip_value.quantize(Decimal(\"0.01\"), ROUND_HALF_DOWN)"
   ]
  },
  {
   "cell_type": "code",
   "execution_count": 4,
   "metadata": {},
   "outputs": [
    {
     "data": {
      "text/plain": [
       "Decimal('10.00')"
      ]
     },
     "execution_count": 4,
     "metadata": {},
     "output_type": "execute_result"
    }
   ],
   "source": [
    "# Using EUR/USD of 1.1930 is just\n",
    "eur_usd = Decimal(str(1.1930))\n",
    "pip / eur_usd * lotDict[1] * eur_usd\n",
    "# which can simply be rewritten as:\n",
    "(pip * lotDict[1]).quantize(Decimal(\"0.01\"), ROUND_HALF_DOWN)"
   ]
  },
  {
   "cell_type": "code",
   "execution_count": 6,
   "metadata": {},
   "outputs": [],
   "source": [
    "# long on  usd_chf buy usd, sell chf\n",
    "equity= Decimal(str(10000.00))\n",
    "curPair = namedtuple('curPair', ['bid', 'ask'])\n",
    "usd_chf_1 = curPair(bid=Decimal(str(1.4525)), ask=Decimal(str(1.4530)))\n",
    "usd_chf_2 = curPair(bid=Decimal(str(1.4550)), ask=Decimal(str(1.4555)))"
   ]
  },
  {
   "cell_type": "code",
   "execution_count": null,
   "metadata": {
    "collapsed": true
   },
   "outputs": [],
   "source": []
  },
  {
   "cell_type": "code",
   "execution_count": 5,
   "metadata": {
    "collapsed": true
   },
   "outputs": [],
   "source": [
    "usd_chf1 = {'bid': Decimal(str(1.4525)), 'ask': Decimal(str(1.4530))}\n",
    "usd_chf2 = {'bid': Decimal(str(1.4550)), 'ask': Decimal(str(1.4555))}"
   ]
  },
  {
   "cell_type": "code",
   "execution_count": 6,
   "metadata": {
    "collapsed": true
   },
   "outputs": [],
   "source": [
    "class position:\n",
    "    def __init__(self, orderType, bid, ask, pair='AUD_USD',\n",
    "                 units=100000):\n",
    "        self.status = 'open'\n",
    "        self.side = orderType\n",
    "        self.units = Decimal(str(units))\n",
    "        ask = Decimal(str(ask))\n",
    "        bid = Decimal(str(bid))\n",
    "        self.spreadOpen = bid - ask\n",
    "        self.spreadClose = False\n",
    "        self.pair = pair\n",
    "        if 'JPY' in pair:\n",
    "            self.pip = Decimal(str(0.01))\n",
    "        else:\n",
    "            self.pip = Decimal(str(0.0001))\n",
    "        if orderType == \"long\":\n",
    "            self.openPrice = ask\n",
    "            self.pnl = bid - ask\n",
    "        else:\n",
    "            self.openPrice = bid\n",
    "            self.pnl = ask - bid\n",
    "            \n",
    "    def closePosition(self, bid, ask):\n",
    "        \"\"\"\n",
    "        Closing a position means using the price that was not used when \n",
    "        \"\"\"\n",
    "        bid, ask = Decimal(str(bid)), Decimal(str(ask))\n",
    "        if self.side == \"long\":\n",
    "            closePrice = bid\n",
    "            priceMove = closePrice - self.openPrice\n",
    "        else:\n",
    "            closePrice = ask\n",
    "            priceMove = self.openPrice - closePrice\n",
    "        pipMove = self.__getPips(priceMove)\n",
    "        movePricePerPip = self.__getPipValue(closePrice) \n",
    "        self.pnl = (pipMove * movePricePerPip).quantize(Decimal('0.01'),\n",
    "                                                       ROUND_HALF_DOWN)\n",
    "        self.spreadClose += (bid - ask)\n",
    "        self.status = 'closed'\n",
    "    \n",
    "    def __getPips(self, movement):\n",
    "        \"\"\"unit: pip\"\"\"\n",
    "        return movement / self.pip\n",
    "    \n",
    "    def __getPipValue(self, price):\n",
    "        \"\"\"unit: $/pip\"\"\"\n",
    "        return self.pip / price * self.units\n",
    "    "
   ]
  },
  {
   "cell_type": "code",
   "execution_count": 7,
   "metadata": {
    "collapsed": true
   },
   "outputs": [],
   "source": [
    "p1 = position(\"long\", 1.4525, 1.4530)"
   ]
  },
  {
   "cell_type": "code",
   "execution_count": 8,
   "metadata": {},
   "outputs": [
    {
     "data": {
      "text/plain": [
       "Decimal('-0.0005')"
      ]
     },
     "execution_count": 8,
     "metadata": {},
     "output_type": "execute_result"
    }
   ],
   "source": [
    "p1.spreadOpen"
   ]
  },
  {
   "cell_type": "code",
   "execution_count": 9,
   "metadata": {
    "collapsed": true
   },
   "outputs": [],
   "source": [
    "p1.closePosition(1.4550, 1.4555)"
   ]
  },
  {
   "cell_type": "code",
   "execution_count": 10,
   "metadata": {},
   "outputs": [
    {
     "data": {
      "text/plain": [
       "Decimal('137.46')"
      ]
     },
     "execution_count": 10,
     "metadata": {},
     "output_type": "execute_result"
    }
   ],
   "source": [
    "p1.pnl"
   ]
  },
  {
   "cell_type": "code",
   "execution_count": 11,
   "metadata": {},
   "outputs": [
    {
     "data": {
      "text/plain": [
       "Decimal('-0.0010')"
      ]
     },
     "execution_count": 11,
     "metadata": {},
     "output_type": "execute_result"
    }
   ],
   "source": [
    "p1.spread"
   ]
  },
  {
   "cell_type": "code",
   "execution_count": 81,
   "metadata": {},
   "outputs": [
    {
     "data": {
      "text/plain": [
       "Decimal('-10')"
      ]
     },
     "execution_count": 81,
     "metadata": {},
     "output_type": "execute_result"
    }
   ],
   "source": [
    "p1.spread / p1.pip"
   ]
  },
  {
   "cell_type": "code",
   "execution_count": 82,
   "metadata": {
    "collapsed": true
   },
   "outputs": [],
   "source": [
    "p2 = position(\"short\", 1.4550, 1.4555)\n",
    "p2.closePosition(1.4525, 1.453)"
   ]
  },
  {
   "cell_type": "code",
   "execution_count": 83,
   "metadata": {},
   "outputs": [
    {
     "data": {
      "text/plain": [
       "Decimal('137.65')"
      ]
     },
     "execution_count": 83,
     "metadata": {},
     "output_type": "execute_result"
    }
   ],
   "source": [
    "p2.pnl"
   ]
  },
  {
   "cell_type": "code",
   "execution_count": 85,
   "metadata": {},
   "outputs": [
    {
     "data": {
      "text/plain": [
       "Decimal('-10')"
      ]
     },
     "execution_count": 85,
     "metadata": {},
     "output_type": "execute_result"
    }
   ],
   "source": [
    "p2.spread/p1.pip"
   ]
  },
  {
   "cell_type": "code",
   "execution_count": null,
   "metadata": {
    "collapsed": true
   },
   "outputs": [],
   "source": []
  }
 ],
 "metadata": {
  "kernelspec": {
   "display_name": "Python 3",
   "language": "python",
   "name": "python3"
  },
  "language_info": {
   "codemirror_mode": {
    "name": "ipython",
    "version": 3
   },
   "file_extension": ".py",
   "mimetype": "text/x-python",
   "name": "python",
   "nbconvert_exporter": "python",
   "pygments_lexer": "ipython3",
   "version": "3.6.2"
  }
 },
 "nbformat": 4,
 "nbformat_minor": 2
}
