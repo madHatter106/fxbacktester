{
 "cells": [
  {
   "cell_type": "code",
   "execution_count": 1,
   "metadata": {
    "collapsed": true
   },
   "outputs": [],
   "source": [
    "import numpy as np\n",
    "import pandas as pd\n",
    "import oandapy as opy\n",
    "from datetime import datetime as DT\n",
    "from matplotlib.finance import candlestick_ohlc"
   ]
  },
  {
   "cell_type": "code",
   "execution_count": 2,
   "metadata": {},
   "outputs": [],
   "source": [
    "with open('/home/madhatter106/.oanda') as fo:\n",
    "    lines=fo.readlines()\n",
    "    for line in lines:\n",
    "        prize=line.split('=')[-1].strip()\n",
    "        if \"token\" in line:\n",
    "            token = prize\n",
    "        if \"account\" in line:\n",
    "            account_id = prize"
   ]
  },
  {
   "cell_type": "code",
   "execution_count": 3,
   "metadata": {},
   "outputs": [],
   "source": [
    "oanda = opy.API(environment='practice', access_token=token)"
   ]
  },
  {
   "cell_type": "code",
   "execution_count": 4,
   "metadata": {
    "collapsed": true
   },
   "outputs": [],
   "source": [
    "d1 = '2016-01-01'\n",
    "d2 = DT.strftime(DT.now(), '%Y-%m-%d')\n",
    "instrument = 'USD_JPY'\n",
    " \n",
    "# Download data in chucks\n",
    "dates = pd.date_range(start=d1, end=d2, freq='D')\n",
    "df = pd.DataFrame()"
   ]
  },
  {
   "cell_type": "code",
   "execution_count": 5,
   "metadata": {
    "collapsed": true
   },
   "outputs": [],
   "source": [
    "for i in range(0, len(dates) -1):\n",
    "    d1 = str(dates[i]).replace(' ', 'T')\n",
    "    d2 = str(dates[i+1]).replace(' ', 'T')\n",
    "    try:\n",
    "        data = oanda.get_history(instrument=instrument,\n",
    "                                 start=d1, end=d2, granularity='D')\n",
    "        df = df.append(pd.DataFrame(data['candles']))\n",
    "    except:\n",
    "        pass"
   ]
  },
  {
   "cell_type": "code",
   "execution_count": 6,
   "metadata": {},
   "outputs": [],
   "source": [
    "df.index = pd.DatetimeIndex(df['time'], tz='utc')"
   ]
  },
  {
   "cell_type": "code",
   "execution_count": 7,
   "metadata": {
    "scrolled": false
   },
   "outputs": [
    {
     "data": {
      "text/html": [
       "<div>\n",
       "<style>\n",
       "    .dataframe thead tr:only-child th {\n",
       "        text-align: right;\n",
       "    }\n",
       "\n",
       "    .dataframe thead th {\n",
       "        text-align: left;\n",
       "    }\n",
       "\n",
       "    .dataframe tbody tr th {\n",
       "        vertical-align: top;\n",
       "    }\n",
       "</style>\n",
       "<table border=\"1\" class=\"dataframe\">\n",
       "  <thead>\n",
       "    <tr style=\"text-align: right;\">\n",
       "      <th></th>\n",
       "      <th>closeAsk</th>\n",
       "      <th>closeBid</th>\n",
       "      <th>complete</th>\n",
       "      <th>highAsk</th>\n",
       "      <th>highBid</th>\n",
       "      <th>lowAsk</th>\n",
       "      <th>lowBid</th>\n",
       "      <th>openAsk</th>\n",
       "      <th>openBid</th>\n",
       "      <th>time</th>\n",
       "      <th>volume</th>\n",
       "    </tr>\n",
       "    <tr>\n",
       "      <th>time</th>\n",
       "      <th></th>\n",
       "      <th></th>\n",
       "      <th></th>\n",
       "      <th></th>\n",
       "      <th></th>\n",
       "      <th></th>\n",
       "      <th></th>\n",
       "      <th></th>\n",
       "      <th></th>\n",
       "      <th></th>\n",
       "      <th></th>\n",
       "    </tr>\n",
       "  </thead>\n",
       "  <tbody>\n",
       "    <tr>\n",
       "      <th>2016-01-03 22:00:00+00:00</th>\n",
       "      <td>119.461</td>\n",
       "      <td>119.429</td>\n",
       "      <td>True</td>\n",
       "      <td>120.473</td>\n",
       "      <td>120.456</td>\n",
       "      <td>118.713</td>\n",
       "      <td>118.694</td>\n",
       "      <td>120.245</td>\n",
       "      <td>120.145</td>\n",
       "      <td>2016-01-03T22:00:00.000000Z</td>\n",
       "      <td>42744</td>\n",
       "    </tr>\n",
       "    <tr>\n",
       "      <th>2016-01-03 22:00:00+00:00</th>\n",
       "      <td>119.461</td>\n",
       "      <td>119.429</td>\n",
       "      <td>True</td>\n",
       "      <td>120.473</td>\n",
       "      <td>120.456</td>\n",
       "      <td>118.713</td>\n",
       "      <td>118.694</td>\n",
       "      <td>120.245</td>\n",
       "      <td>120.145</td>\n",
       "      <td>2016-01-03T22:00:00.000000Z</td>\n",
       "      <td>42744</td>\n",
       "    </tr>\n",
       "    <tr>\n",
       "      <th>2016-01-04 22:00:00+00:00</th>\n",
       "      <td>119.080</td>\n",
       "      <td>119.046</td>\n",
       "      <td>True</td>\n",
       "      <td>119.725</td>\n",
       "      <td>119.692</td>\n",
       "      <td>118.801</td>\n",
       "      <td>118.786</td>\n",
       "      <td>119.489</td>\n",
       "      <td>119.424</td>\n",
       "      <td>2016-01-04T22:00:00.000000Z</td>\n",
       "      <td>33404</td>\n",
       "    </tr>\n",
       "    <tr>\n",
       "      <th>2016-01-04 22:00:00+00:00</th>\n",
       "      <td>119.080</td>\n",
       "      <td>119.046</td>\n",
       "      <td>True</td>\n",
       "      <td>119.725</td>\n",
       "      <td>119.692</td>\n",
       "      <td>118.801</td>\n",
       "      <td>118.786</td>\n",
       "      <td>119.489</td>\n",
       "      <td>119.424</td>\n",
       "      <td>2016-01-04T22:00:00.000000Z</td>\n",
       "      <td>33404</td>\n",
       "    </tr>\n",
       "    <tr>\n",
       "      <th>2016-01-05 22:00:00+00:00</th>\n",
       "      <td>118.494</td>\n",
       "      <td>118.456</td>\n",
       "      <td>True</td>\n",
       "      <td>119.185</td>\n",
       "      <td>119.160</td>\n",
       "      <td>118.258</td>\n",
       "      <td>118.243</td>\n",
       "      <td>119.087</td>\n",
       "      <td>119.043</td>\n",
       "      <td>2016-01-05T22:00:00.000000Z</td>\n",
       "      <td>46689</td>\n",
       "    </tr>\n",
       "  </tbody>\n",
       "</table>\n",
       "</div>"
      ],
      "text/plain": [
       "                           closeAsk  closeBid  complete  highAsk  highBid  \\\n",
       "time                                                                        \n",
       "2016-01-03 22:00:00+00:00   119.461   119.429      True  120.473  120.456   \n",
       "2016-01-03 22:00:00+00:00   119.461   119.429      True  120.473  120.456   \n",
       "2016-01-04 22:00:00+00:00   119.080   119.046      True  119.725  119.692   \n",
       "2016-01-04 22:00:00+00:00   119.080   119.046      True  119.725  119.692   \n",
       "2016-01-05 22:00:00+00:00   118.494   118.456      True  119.185  119.160   \n",
       "\n",
       "                            lowAsk   lowBid  openAsk  openBid  \\\n",
       "time                                                            \n",
       "2016-01-03 22:00:00+00:00  118.713  118.694  120.245  120.145   \n",
       "2016-01-03 22:00:00+00:00  118.713  118.694  120.245  120.145   \n",
       "2016-01-04 22:00:00+00:00  118.801  118.786  119.489  119.424   \n",
       "2016-01-04 22:00:00+00:00  118.801  118.786  119.489  119.424   \n",
       "2016-01-05 22:00:00+00:00  118.258  118.243  119.087  119.043   \n",
       "\n",
       "                                                  time  volume  \n",
       "time                                                            \n",
       "2016-01-03 22:00:00+00:00  2016-01-03T22:00:00.000000Z   42744  \n",
       "2016-01-03 22:00:00+00:00  2016-01-03T22:00:00.000000Z   42744  \n",
       "2016-01-04 22:00:00+00:00  2016-01-04T22:00:00.000000Z   33404  \n",
       "2016-01-04 22:00:00+00:00  2016-01-04T22:00:00.000000Z   33404  \n",
       "2016-01-05 22:00:00+00:00  2016-01-05T22:00:00.000000Z   46689  "
      ]
     },
     "execution_count": 7,
     "metadata": {},
     "output_type": "execute_result"
    }
   ],
   "source": [
    "df.head()"
   ]
  },
  {
   "cell_type": "code",
   "execution_count": 8,
   "metadata": {},
   "outputs": [],
   "source": [
    "# Check to see if the data set is complete\n",
    "try:\n",
    "    assert df.shape[0] == df.complete.sum()\n",
    "except AssertionError:\n",
    "    print('dataset is incomplete')"
   ]
  },
  {
   "cell_type": "code",
   "execution_count": null,
   "metadata": {
    "collapsed": true
   },
   "outputs": [],
   "source": []
  }
 ],
 "metadata": {
  "anaconda-cloud": {},
  "kernelspec": {
   "display_name": "Python 3",
   "language": "python",
   "name": "python3"
  },
  "language_info": {
   "codemirror_mode": {
    "name": "ipython",
    "version": 3
   },
   "file_extension": ".py",
   "mimetype": "text/x-python",
   "name": "python",
   "nbconvert_exporter": "python",
   "pygments_lexer": "ipython3",
   "version": "3.6.2"
  }
 },
 "nbformat": 4,
 "nbformat_minor": 1
}
