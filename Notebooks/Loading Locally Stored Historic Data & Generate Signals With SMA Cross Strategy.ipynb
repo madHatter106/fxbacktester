{
 "cells": [
  {
   "cell_type": "code",
   "execution_count": 26,
   "metadata": {
    "collapsed": true
   },
   "outputs": [],
   "source": [
    "import pandas as pd\n",
    "import numpy as np\n",
    "import matplotlib.pyplot as pl\n",
    "from datetime import datetime\n",
    "from tqdm import tqdm_notebook\n",
    "import os\n",
    "import glob\n",
    "from abc import ABCMeta, abstractmethod"
   ]
  },
  {
   "cell_type": "code",
   "execution_count": 18,
   "metadata": {},
   "outputs": [],
   "source": [
    "dataSaveDir = os.getenv('OANDA_DATA_MAIN')"
   ]
  },
  {
   "cell_type": "code",
   "execution_count": 19,
   "metadata": {},
   "outputs": [
    {
     "data": {
      "text/plain": [
       "'/Users/PoFA/DATAFILES/FX/OANDA'"
      ]
     },
     "execution_count": 19,
     "metadata": {},
     "output_type": "execute_result"
    }
   ],
   "source": [
    "dataSaveDir"
   ]
  },
  {
   "cell_type": "code",
   "execution_count": 152,
   "metadata": {
    "collapsed": true
   },
   "outputs": [],
   "source": [
    "df = pd.read_hdf(os.path.join(dataSaveDir, 'AUD_USD_170101_170101_1H.h5s'))"
   ]
  },
  {
   "cell_type": "code",
   "execution_count": 153,
   "metadata": {},
   "outputs": [
    {
     "data": {
      "text/html": [
       "<div>\n",
       "<style>\n",
       "    .dataframe thead tr:only-child th {\n",
       "        text-align: right;\n",
       "    }\n",
       "\n",
       "    .dataframe thead th {\n",
       "        text-align: left;\n",
       "    }\n",
       "\n",
       "    .dataframe tbody tr th {\n",
       "        vertical-align: top;\n",
       "    }\n",
       "</style>\n",
       "<table border=\"1\" class=\"dataframe\">\n",
       "  <thead>\n",
       "    <tr style=\"text-align: right;\">\n",
       "      <th></th>\n",
       "      <th>closeAsk</th>\n",
       "      <th>closeBid</th>\n",
       "      <th>complete</th>\n",
       "      <th>highAsk</th>\n",
       "      <th>highBid</th>\n",
       "      <th>lowAsk</th>\n",
       "      <th>lowBid</th>\n",
       "      <th>openAsk</th>\n",
       "      <th>openBid</th>\n",
       "      <th>time</th>\n",
       "      <th>volume</th>\n",
       "    </tr>\n",
       "  </thead>\n",
       "  <tbody>\n",
       "    <tr>\n",
       "      <th>2017-01-02 23:00:00</th>\n",
       "      <td>0.71970</td>\n",
       "      <td>0.71950</td>\n",
       "      <td>True</td>\n",
       "      <td>0.72045</td>\n",
       "      <td>0.72026</td>\n",
       "      <td>0.71935</td>\n",
       "      <td>0.71916</td>\n",
       "      <td>0.71998</td>\n",
       "      <td>0.71963</td>\n",
       "      <td>2017-01-02T23:00:00.000000Z</td>\n",
       "      <td>453</td>\n",
       "    </tr>\n",
       "    <tr>\n",
       "      <th>2017-01-03 00:00:00</th>\n",
       "      <td>0.71955</td>\n",
       "      <td>0.71939</td>\n",
       "      <td>True</td>\n",
       "      <td>0.72048</td>\n",
       "      <td>0.72031</td>\n",
       "      <td>0.71954</td>\n",
       "      <td>0.71936</td>\n",
       "      <td>0.71966</td>\n",
       "      <td>0.71944</td>\n",
       "      <td>2017-01-03T00:00:00.000000Z</td>\n",
       "      <td>300</td>\n",
       "    </tr>\n",
       "    <tr>\n",
       "      <th>2017-01-03 01:00:00</th>\n",
       "      <td>0.72175</td>\n",
       "      <td>0.72158</td>\n",
       "      <td>True</td>\n",
       "      <td>0.72178</td>\n",
       "      <td>0.72163</td>\n",
       "      <td>0.71953</td>\n",
       "      <td>0.71939</td>\n",
       "      <td>0.71959</td>\n",
       "      <td>0.71942</td>\n",
       "      <td>2017-01-03T01:00:00.000000Z</td>\n",
       "      <td>559</td>\n",
       "    </tr>\n",
       "    <tr>\n",
       "      <th>2017-01-03 02:00:00</th>\n",
       "      <td>0.72257</td>\n",
       "      <td>0.72240</td>\n",
       "      <td>True</td>\n",
       "      <td>0.72266</td>\n",
       "      <td>0.72248</td>\n",
       "      <td>0.72166</td>\n",
       "      <td>0.72150</td>\n",
       "      <td>0.72170</td>\n",
       "      <td>0.72153</td>\n",
       "      <td>2017-01-03T02:00:00.000000Z</td>\n",
       "      <td>305</td>\n",
       "    </tr>\n",
       "    <tr>\n",
       "      <th>2017-01-03 03:00:00</th>\n",
       "      <td>0.72306</td>\n",
       "      <td>0.72294</td>\n",
       "      <td>True</td>\n",
       "      <td>0.72326</td>\n",
       "      <td>0.72310</td>\n",
       "      <td>0.72245</td>\n",
       "      <td>0.72229</td>\n",
       "      <td>0.72252</td>\n",
       "      <td>0.72237</td>\n",
       "      <td>2017-01-03T03:00:00.000000Z</td>\n",
       "      <td>243</td>\n",
       "    </tr>\n",
       "  </tbody>\n",
       "</table>\n",
       "</div>"
      ],
      "text/plain": [
       "                     closeAsk  closeBid  complete  highAsk  highBid   lowAsk  \\\n",
       "2017-01-02 23:00:00   0.71970   0.71950      True  0.72045  0.72026  0.71935   \n",
       "2017-01-03 00:00:00   0.71955   0.71939      True  0.72048  0.72031  0.71954   \n",
       "2017-01-03 01:00:00   0.72175   0.72158      True  0.72178  0.72163  0.71953   \n",
       "2017-01-03 02:00:00   0.72257   0.72240      True  0.72266  0.72248  0.72166   \n",
       "2017-01-03 03:00:00   0.72306   0.72294      True  0.72326  0.72310  0.72245   \n",
       "\n",
       "                      lowBid  openAsk  openBid                         time  \\\n",
       "2017-01-02 23:00:00  0.71916  0.71998  0.71963  2017-01-02T23:00:00.000000Z   \n",
       "2017-01-03 00:00:00  0.71936  0.71966  0.71944  2017-01-03T00:00:00.000000Z   \n",
       "2017-01-03 01:00:00  0.71939  0.71959  0.71942  2017-01-03T01:00:00.000000Z   \n",
       "2017-01-03 02:00:00  0.72150  0.72170  0.72153  2017-01-03T02:00:00.000000Z   \n",
       "2017-01-03 03:00:00  0.72229  0.72252  0.72237  2017-01-03T03:00:00.000000Z   \n",
       "\n",
       "                     volume  \n",
       "2017-01-02 23:00:00     453  \n",
       "2017-01-03 00:00:00     300  \n",
       "2017-01-03 01:00:00     559  \n",
       "2017-01-03 02:00:00     305  \n",
       "2017-01-03 03:00:00     243  "
      ]
     },
     "execution_count": 153,
     "metadata": {},
     "output_type": "execute_result"
    }
   ],
   "source": [
    "df.head()"
   ]
  },
  {
   "cell_type": "code",
   "execution_count": 28,
   "metadata": {
    "collapsed": true
   },
   "outputs": [],
   "source": [
    "pri = np.abs(np.random.rand(20))"
   ]
  },
  {
   "cell_type": "code",
   "execution_count": 156,
   "metadata": {},
   "outputs": [
    {
     "data": {
      "text/plain": [
       "False"
      ]
     },
     "execution_count": 156,
     "metadata": {},
     "output_type": "execute_result"
    }
   ],
   "source": [
    "df.duplicated().any()"
   ]
  },
  {
   "cell_type": "code",
   "execution_count": 187,
   "metadata": {
    "collapsed": true
   },
   "outputs": [],
   "source": [
    "dfSMA = pd.DataFrame(index=df.index, columns=['close','shortSMA', 'longSMA', 'openPosition'])\n",
    "dfSMA['bid'] = df.closeBid\n",
    "dfSMA['ask'] = df.closeAsk\n",
    "dfSMA['openPosition'] = False\n",
    "shortWindow, longWindow = 10, 50"
   ]
  },
  {
   "cell_type": "code",
   "execution_count": 188,
   "metadata": {
    "collapsed": true
   },
   "outputs": [],
   "source": [
    "dfSMA['shortSMA'] = dfSMA.close.shift(1).rolling(window=shortWindow,).mean()\n",
    "dfSMA['longSMA'] = dfSMA.close.shift(1).rolling(window=longWindow).mean()\n",
    "dfSMA.dropna(inplace=True)"
   ]
  },
  {
   "cell_type": "code",
   "execution_count": 203,
   "metadata": {},
   "outputs": [],
   "source": [
    "returns = 0\n",
    "closePrice = - 1\n",
    "openPrice = - 1\n",
    "df\n",
    "for i in range(1, dfSMA.shape[0]):\n",
    "    prevrow = dfSMA.iloc[i-1,:]\n",
    "    row = dfSMA.iloc[i,:]\n",
    "    if row['shortSMA'] > row['longSMA']:\n",
    "        if not prevrow['openPosition']:\n",
    "            row['openPosition'] = 'Long'\n",
    "            openPrice = row['ask']\n",
    "        elif prevrow['openPosition'] =='Short':\n",
    "            prevrow['openPosition'] = 'False'\n",
    "            closePrice = \n",
    "    row['openPosition'] = "
   ]
  },
  {
   "cell_type": "code",
   "execution_count": 207,
   "metadata": {},
   "outputs": [
    {
     "data": {
      "text/plain": [
       "False"
      ]
     },
     "execution_count": 207,
     "metadata": {},
     "output_type": "execute_result"
    }
   ],
   "source": [
    "row['openPosition']"
   ]
  },
  {
   "cell_type": "code",
   "execution_count": 197,
   "metadata": {},
   "outputs": [
    {
     "data": {
      "text/plain": [
       "-1"
      ]
     },
     "execution_count": 197,
     "metadata": {},
     "output_type": "execute_result"
    }
   ],
   "source": [
    "\n",
    "int(dfSMA.shortSMA[1] > dfSMA.longSMA[1] and not dfSMA.openPosition[0])"
   ]
  },
  {
   "cell_type": "code",
   "execution_count": 189,
   "metadata": {},
   "outputs": [
    {
     "data": {
      "text/html": [
       "<div>\n",
       "<style>\n",
       "    .dataframe thead tr:only-child th {\n",
       "        text-align: right;\n",
       "    }\n",
       "\n",
       "    .dataframe thead th {\n",
       "        text-align: left;\n",
       "    }\n",
       "\n",
       "    .dataframe tbody tr th {\n",
       "        vertical-align: top;\n",
       "    }\n",
       "</style>\n",
       "<table border=\"1\" class=\"dataframe\">\n",
       "  <thead>\n",
       "    <tr style=\"text-align: right;\">\n",
       "      <th></th>\n",
       "      <th>close</th>\n",
       "      <th>shortSMA</th>\n",
       "      <th>longSMA</th>\n",
       "      <th>openPosition</th>\n",
       "    </tr>\n",
       "  </thead>\n",
       "  <tbody>\n",
       "    <tr>\n",
       "      <th>2017-01-05 01:00:00</th>\n",
       "      <td>0.72822</td>\n",
       "      <td>0.727793</td>\n",
       "      <td>0.723952</td>\n",
       "      <td>False</td>\n",
       "    </tr>\n",
       "    <tr>\n",
       "      <th>2017-01-05 02:00:00</th>\n",
       "      <td>0.72828</td>\n",
       "      <td>0.727801</td>\n",
       "      <td>0.724126</td>\n",
       "      <td>False</td>\n",
       "    </tr>\n",
       "    <tr>\n",
       "      <th>2017-01-05 03:00:00</th>\n",
       "      <td>0.72925</td>\n",
       "      <td>0.727939</td>\n",
       "      <td>0.724304</td>\n",
       "      <td>False</td>\n",
       "    </tr>\n",
       "    <tr>\n",
       "      <th>2017-01-05 04:00:00</th>\n",
       "      <td>0.73004</td>\n",
       "      <td>0.728166</td>\n",
       "      <td>0.724457</td>\n",
       "      <td>False</td>\n",
       "    </tr>\n",
       "    <tr>\n",
       "      <th>2017-01-05 05:00:00</th>\n",
       "      <td>0.73083</td>\n",
       "      <td>0.728457</td>\n",
       "      <td>0.724610</td>\n",
       "      <td>False</td>\n",
       "    </tr>\n",
       "    <tr>\n",
       "      <th>2017-01-05 06:00:00</th>\n",
       "      <td>0.73211</td>\n",
       "      <td>0.728900</td>\n",
       "      <td>0.724768</td>\n",
       "      <td>False</td>\n",
       "    </tr>\n",
       "    <tr>\n",
       "      <th>2017-01-05 07:00:00</th>\n",
       "      <td>0.73023</td>\n",
       "      <td>0.729295</td>\n",
       "      <td>0.724945</td>\n",
       "      <td>False</td>\n",
       "    </tr>\n",
       "    <tr>\n",
       "      <th>2017-01-05 08:00:00</th>\n",
       "      <td>0.72962</td>\n",
       "      <td>0.729499</td>\n",
       "      <td>0.725091</td>\n",
       "      <td>False</td>\n",
       "    </tr>\n",
       "    <tr>\n",
       "      <th>2017-01-05 09:00:00</th>\n",
       "      <td>0.72924</td>\n",
       "      <td>0.729720</td>\n",
       "      <td>0.725215</td>\n",
       "      <td>False</td>\n",
       "    </tr>\n",
       "    <tr>\n",
       "      <th>2017-01-05 10:00:00</th>\n",
       "      <td>0.72888</td>\n",
       "      <td>0.729772</td>\n",
       "      <td>0.725373</td>\n",
       "      <td>False</td>\n",
       "    </tr>\n",
       "    <tr>\n",
       "      <th>2017-01-05 11:00:00</th>\n",
       "      <td>0.72879</td>\n",
       "      <td>0.729670</td>\n",
       "      <td>0.725525</td>\n",
       "      <td>False</td>\n",
       "    </tr>\n",
       "    <tr>\n",
       "      <th>2017-01-05 12:00:00</th>\n",
       "      <td>0.72900</td>\n",
       "      <td>0.729727</td>\n",
       "      <td>0.725691</td>\n",
       "      <td>False</td>\n",
       "    </tr>\n",
       "    <tr>\n",
       "      <th>2017-01-05 13:00:00</th>\n",
       "      <td>0.73049</td>\n",
       "      <td>0.729799</td>\n",
       "      <td>0.725868</td>\n",
       "      <td>False</td>\n",
       "    </tr>\n",
       "    <tr>\n",
       "      <th>2017-01-05 14:00:00</th>\n",
       "      <td>0.73188</td>\n",
       "      <td>0.729923</td>\n",
       "      <td>0.726063</td>\n",
       "      <td>False</td>\n",
       "    </tr>\n",
       "    <tr>\n",
       "      <th>2017-01-05 15:00:00</th>\n",
       "      <td>0.73453</td>\n",
       "      <td>0.730107</td>\n",
       "      <td>0.726266</td>\n",
       "      <td>False</td>\n",
       "    </tr>\n",
       "    <tr>\n",
       "      <th>2017-01-05 16:00:00</th>\n",
       "      <td>0.73323</td>\n",
       "      <td>0.730477</td>\n",
       "      <td>0.726532</td>\n",
       "      <td>False</td>\n",
       "    </tr>\n",
       "    <tr>\n",
       "      <th>2017-01-05 17:00:00</th>\n",
       "      <td>0.73362</td>\n",
       "      <td>0.730589</td>\n",
       "      <td>0.726756</td>\n",
       "      <td>False</td>\n",
       "    </tr>\n",
       "    <tr>\n",
       "      <th>2017-01-05 18:00:00</th>\n",
       "      <td>0.73429</td>\n",
       "      <td>0.730928</td>\n",
       "      <td>0.726989</td>\n",
       "      <td>False</td>\n",
       "    </tr>\n",
       "    <tr>\n",
       "      <th>2017-01-05 19:00:00</th>\n",
       "      <td>0.73337</td>\n",
       "      <td>0.731395</td>\n",
       "      <td>0.727217</td>\n",
       "      <td>False</td>\n",
       "    </tr>\n",
       "    <tr>\n",
       "      <th>2017-01-05 20:00:00</th>\n",
       "      <td>0.73395</td>\n",
       "      <td>0.731808</td>\n",
       "      <td>0.727412</td>\n",
       "      <td>False</td>\n",
       "    </tr>\n",
       "  </tbody>\n",
       "</table>\n",
       "</div>"
      ],
      "text/plain": [
       "                       close  shortSMA   longSMA  openPosition\n",
       "2017-01-05 01:00:00  0.72822  0.727793  0.723952         False\n",
       "2017-01-05 02:00:00  0.72828  0.727801  0.724126         False\n",
       "2017-01-05 03:00:00  0.72925  0.727939  0.724304         False\n",
       "2017-01-05 04:00:00  0.73004  0.728166  0.724457         False\n",
       "2017-01-05 05:00:00  0.73083  0.728457  0.724610         False\n",
       "2017-01-05 06:00:00  0.73211  0.728900  0.724768         False\n",
       "2017-01-05 07:00:00  0.73023  0.729295  0.724945         False\n",
       "2017-01-05 08:00:00  0.72962  0.729499  0.725091         False\n",
       "2017-01-05 09:00:00  0.72924  0.729720  0.725215         False\n",
       "2017-01-05 10:00:00  0.72888  0.729772  0.725373         False\n",
       "2017-01-05 11:00:00  0.72879  0.729670  0.725525         False\n",
       "2017-01-05 12:00:00  0.72900  0.729727  0.725691         False\n",
       "2017-01-05 13:00:00  0.73049  0.729799  0.725868         False\n",
       "2017-01-05 14:00:00  0.73188  0.729923  0.726063         False\n",
       "2017-01-05 15:00:00  0.73453  0.730107  0.726266         False\n",
       "2017-01-05 16:00:00  0.73323  0.730477  0.726532         False\n",
       "2017-01-05 17:00:00  0.73362  0.730589  0.726756         False\n",
       "2017-01-05 18:00:00  0.73429  0.730928  0.726989         False\n",
       "2017-01-05 19:00:00  0.73337  0.731395  0.727217         False\n",
       "2017-01-05 20:00:00  0.73395  0.731808  0.727412         False"
      ]
     },
     "execution_count": 189,
     "metadata": {},
     "output_type": "execute_result"
    }
   ],
   "source": [
    "dfSMA.head(20)"
   ]
  },
  {
   "cell_type": "code",
   "execution_count": 180,
   "metadata": {},
   "outputs": [
    {
     "data": {
      "text/plain": [
       "0.721803"
      ]
     },
     "execution_count": 180,
     "metadata": {},
     "output_type": "execute_result"
    }
   ],
   "source": [
    "dfSMA.close[:10].mean()"
   ]
  },
  {
   "cell_type": "code",
   "execution_count": 43,
   "metadata": {
    "collapsed": true
   },
   "outputs": [],
   "source": [
    "df = pd.DataFrame(pri, columns=['close'])"
   ]
  },
  {
   "cell_type": "code",
   "execution_count": 150,
   "metadata": {},
   "outputs": [],
   "source": [
    "df['rolling_mean'] = df.close.rolling(window=10, ).mean()"
   ]
  },
  {
   "cell_type": "code",
   "execution_count": 125,
   "metadata": {},
   "outputs": [],
   "source": [
    "def sma_calc(row, window):\n",
    "    print(row.shift(1))\n",
    "    #print(row.name)\n",
    "    if row.name == window:\n",
    "        pass\n",
    "        #return row.close\n",
    "    else:\n",
    "        window = min(window, row.name)\n",
    "        sma_m_1 = row.shift(1)['sma']\n",
    "        #print(row.name, row.shift(window))\n",
    "        #print(row.close, row.shift(window).close, window+1)\n",
    "        #sma = ((sma_m_1 * (window-1)) + row.close) / window\n",
    "        sma = sma_m_1 + (row.close - row.shift(window).close )/ (window + 1) \n",
    "        #return sma"
   ]
  },
  {
   "cell_type": "code",
   "execution_count": 151,
   "metadata": {},
   "outputs": [
    {
     "data": {
      "text/html": [
       "<div>\n",
       "<style>\n",
       "    .dataframe thead tr:only-child th {\n",
       "        text-align: right;\n",
       "    }\n",
       "\n",
       "    .dataframe thead th {\n",
       "        text-align: left;\n",
       "    }\n",
       "\n",
       "    .dataframe tbody tr th {\n",
       "        vertical-align: top;\n",
       "    }\n",
       "</style>\n",
       "<table border=\"1\" class=\"dataframe\">\n",
       "  <thead>\n",
       "    <tr style=\"text-align: right;\">\n",
       "      <th></th>\n",
       "      <th>close</th>\n",
       "      <th>rolling_mean</th>\n",
       "      <th>sma</th>\n",
       "    </tr>\n",
       "  </thead>\n",
       "  <tbody>\n",
       "    <tr>\n",
       "      <th>0</th>\n",
       "      <td>0.644571</td>\n",
       "      <td>NaN</td>\n",
       "      <td>None</td>\n",
       "    </tr>\n",
       "    <tr>\n",
       "      <th>1</th>\n",
       "      <td>0.544944</td>\n",
       "      <td>NaN</td>\n",
       "      <td>None</td>\n",
       "    </tr>\n",
       "    <tr>\n",
       "      <th>2</th>\n",
       "      <td>0.299272</td>\n",
       "      <td>NaN</td>\n",
       "      <td>None</td>\n",
       "    </tr>\n",
       "    <tr>\n",
       "      <th>3</th>\n",
       "      <td>0.814301</td>\n",
       "      <td>NaN</td>\n",
       "      <td>None</td>\n",
       "    </tr>\n",
       "    <tr>\n",
       "      <th>4</th>\n",
       "      <td>0.960409</td>\n",
       "      <td>NaN</td>\n",
       "      <td>None</td>\n",
       "    </tr>\n",
       "    <tr>\n",
       "      <th>5</th>\n",
       "      <td>0.063420</td>\n",
       "      <td>NaN</td>\n",
       "      <td>None</td>\n",
       "    </tr>\n",
       "    <tr>\n",
       "      <th>6</th>\n",
       "      <td>0.617480</td>\n",
       "      <td>NaN</td>\n",
       "      <td>None</td>\n",
       "    </tr>\n",
       "    <tr>\n",
       "      <th>7</th>\n",
       "      <td>0.548933</td>\n",
       "      <td>NaN</td>\n",
       "      <td>None</td>\n",
       "    </tr>\n",
       "    <tr>\n",
       "      <th>8</th>\n",
       "      <td>0.555980</td>\n",
       "      <td>NaN</td>\n",
       "      <td>None</td>\n",
       "    </tr>\n",
       "    <tr>\n",
       "      <th>9</th>\n",
       "      <td>0.445160</td>\n",
       "      <td>0.549447</td>\n",
       "      <td>None</td>\n",
       "    </tr>\n",
       "    <tr>\n",
       "      <th>10</th>\n",
       "      <td>0.499714</td>\n",
       "      <td>0.534961</td>\n",
       "      <td>None</td>\n",
       "    </tr>\n",
       "  </tbody>\n",
       "</table>\n",
       "</div>"
      ],
      "text/plain": [
       "       close  rolling_mean   sma\n",
       "0   0.644571           NaN  None\n",
       "1   0.544944           NaN  None\n",
       "2   0.299272           NaN  None\n",
       "3   0.814301           NaN  None\n",
       "4   0.960409           NaN  None\n",
       "5   0.063420           NaN  None\n",
       "6   0.617480           NaN  None\n",
       "7   0.548933           NaN  None\n",
       "8   0.555980           NaN  None\n",
       "9   0.445160      0.549447  None\n",
       "10  0.499714      0.534961  None"
      ]
     },
     "execution_count": 151,
     "metadata": {},
     "output_type": "execute_result"
    }
   ],
   "source": [
    "df.head(11)"
   ]
  },
  {
   "cell_type": "code",
   "execution_count": 98,
   "metadata": {},
   "outputs": [
    {
     "data": {
      "text/plain": [
       "<matplotlib.axes._subplots.AxesSubplot at 0x1136c8588>"
      ]
     },
     "execution_count": 98,
     "metadata": {},
     "output_type": "execute_result"
    }
   ],
   "source": [
    "f,ax=pl.subplots(figsize=(12,5))\n",
    "df.plot.line(y='rolling_mean', ax=ax)\n",
    "df.plot.line(y='sma', ax=ax);\n",
    "pl.show()"
   ]
  },
  {
   "cell_type": "code",
   "execution_count": 27,
   "metadata": {
    "collapsed": true
   },
   "outputs": [],
   "source": [
    "class Strategy:\n",
    "    __metaclass__ = ABCMeta\n",
    "    \n",
    "    @abstractmethod\n",
    "    def generate_signal(self):\n",
    "        raise NotImplementedError(\"Please implement method generate_signal\")"
   ]
  },
  {
   "cell_type": "code",
   "execution_count": null,
   "metadata": {
    "collapsed": true
   },
   "outputs": [],
   "source": [
    "class SMACross(Strategy):\n",
    "    def __init__(self, bidClose, granularity='H1',\n",
    "                 longWindow=20, shortWindow=5):\n",
    "        self.lonWindow = np.arr\n",
    "        "
   ]
  }
 ],
 "metadata": {
  "kernelspec": {
   "display_name": "Python 3",
   "language": "python",
   "name": "python3"
  },
  "language_info": {
   "codemirror_mode": {
    "name": "ipython",
    "version": 3
   },
   "file_extension": ".py",
   "mimetype": "text/x-python",
   "name": "python",
   "nbconvert_exporter": "python",
   "pygments_lexer": "ipython3",
   "version": "3.6.2"
  }
 },
 "nbformat": 4,
 "nbformat_minor": 2
}
