{
 "cells": [
  {
   "cell_type": "code",
   "execution_count": 2,
   "metadata": {
    "collapsed": true
   },
   "outputs": [],
   "source": [
    "from copy import deepcopy\n",
    "from abc import ABCMeta, abstractmethod"
   ]
  },
  {
   "cell_type": "code",
   "execution_count": 3,
   "metadata": {
    "collapsed": true
   },
   "outputs": [],
   "source": [
    "class Event:\n",
    "    pass\n",
    "\n",
    "\n",
    "class TickEvent(Event):\n",
    "    def __init__(self, instrument, time, bid, ask):\n",
    "        self.type = \"TICK\"\n",
    "        self.instrument = instrument\n",
    "        self.time = time\n",
    "        self.bid = bid\n",
    "        self.ask = ask\n",
    "        \n",
    "    def __str__(self):\n",
    "        return \"Type: %s, Instrument: %s, Time: %s, Bid: %s, Ask: %s\" %(str(self.type),\n",
    "                                                                        str(self.instrument),\n",
    "                                                                        str(self.time),\n",
    "                                                                        str(self.bid),\n",
    "                                                                        str(self.ask))\n",
    "    \n",
    "    def __repr__(self):\n",
    "        return str(self)\n",
    "    \n",
    "\n",
    "class SignalEvent(Event):\n",
    "    def __init__(self, instrument, orderType, orderSide, time):\n",
    "        self.type = \"SIGNAL\"\n",
    "        self.instrument = instrument\n",
    "        self.orderType = orderType\n",
    "        self.orderSide = orderSide\n",
    "        self.time = time\n",
    "        \n",
    "    def __str__(self):\n",
    "        return \"Type: %s, Instrument: %s, Order Type: %s, Side: %s\" % (str(self.type),\n",
    "                                                                       str(self.instrument),\n",
    "                                                                       str(self.OrderType),\n",
    "                                                                       str(self.OrderSide))\n",
    "    \n",
    "    def __repr__(self):\n",
    "        str(self)\n",
    "\n",
    "class OrderEvent(Event):\n",
    "    def __init__(self, instrument, units, orderType, orderSide):\n",
    "        self.type = \"ORDER\"\n",
    "        self.instrument = instrument\n",
    "        self.units = units\n",
    "        self.orderType = orderType\n",
    "        self.orderSide = orderSide\n",
    "        \n",
    "    def __str__(self):\n",
    "        return \"Type: %s, Instrument: %s, Units: %s, Order Type: %s, Side: %s\" %(\n",
    "            str(self.type),\n",
    "                                                                                str(self.instrument),\n",
    "                                                                                str(self.units),\n",
    "                                                                                str(self.orderType),\n",
    "                                                                                str(self.orderSide)\n",
    "                                                                                )"
   ]
  },
  {
   "cell_type": "code",
   "execution_count": null,
   "metadata": {
    "collapsed": true
   },
   "outputs": [],
   "source": [
    "class MovingAverageCrossStrategy:\n",
    "    \n",
    "    def __init__(self, pairs, events, shortWindow=50, longWindow=200):\n",
    "        self.pairs = pairs\n",
    "        self.events = events\n",
    "        self.shortWindow = shortWindow\n",
    "        self.longWindow = longWindow\n",
    "        self.pairsDict = self.CreatePairsDict()\n",
    "    \n",
    "    def CreatePairsDict(self):\n",
    "        attrDict = {\"ticks\": 0, \n",
    "                    \"invested\": False,\n",
    "                    \"shortSMA\": None,\n",
    "                    \"longSMA\": None\n",
    "                    }\n",
    "        pairsDict = {}\n",
    "        for p in self.pairs:\n",
    "            pairsDict[p] = copy.deepcopy(attrDict)\n",
    "        return pairsDict\n",
    "    \n",
    "    \n",
    "    def CalculateSignals(self, event):\n",
    "        if event.type == 'TICK':\n",
    "            pair = event.instrument\n",
    "            price = event.bid\n",
    "            pd = self.pairsDict[pair]\n",
    "            if pd[\"ticks\"] == 0:\n",
    "                pd[\"shortSMA\"] = price\n",
    "                pd[\"longSMA\"] = price\n",
    "            else:\n",
    "                pd[\"shortSMA\"] = self.CalcRollingSMA(pd[\"shortSMA\"],\n",
    "                                                     self.shortWindow,\n",
    "                                                     price)\n",
    "                pd[\"longSMA\"] = self.CalcRollingSMA(pd[\"longSMA\"],\n",
    "                                                    self.longWindow,\n",
    "                                                    price)\n",
    "            if pd[\"ticks\"] > self.shortWindow:\n",
    "                if pd[\"shortSMA\"] > pd[\"longSMA\"] and not pd[\"invested\"]:\n",
    "                    signal = SignalEvent(pair, \"market\", \"buy\", event.time)\n",
    "                    self.events.put(signal)"
   ]
  }
 ],
 "metadata": {
  "kernelspec": {
   "display_name": "Python 3",
   "language": "python",
   "name": "python3"
  },
  "language_info": {
   "codemirror_mode": {
    "name": "ipython",
    "version": 3
   },
   "file_extension": ".py",
   "mimetype": "text/x-python",
   "name": "python",
   "nbconvert_exporter": "python",
   "pygments_lexer": "ipython3",
   "version": "3.6.2"
  }
 },
 "nbformat": 4,
 "nbformat_minor": 2
}
